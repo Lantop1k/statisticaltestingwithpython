{
 "cells": [
  {
   "cell_type": "markdown",
   "id": "2521152a",
   "metadata": {},
   "source": [
    "## Table of Contents\n",
    "1. Introduction\n",
    "\n",
    "<t>\n",
    "<ol style=\"list-style-type: none;\">\n",
    "    <li> 1.1 Overview of Statistical Testing </li>\n",
    "    <li> 1.2 Importance of Statistical Tests in Data Science </li>\n",
    "    <li> 1.3 Introduction to Python programming </li>\n",
    "   \n",
    "</ol>\n",
    "</t>\n",
    "\n",
    "2. Getting Started with Python\n",
    "\n",
    " <ol style=\"list-style-type: none\">\n",
    "    <li> 2.1 Setting Up Your Python Environment </li>\n",
    "    <li> 2.2 Overview of Key Python Libraries for Statistics </li>\n",
    "    <li> 2.3 Basic Data Manipulation and Exploration </li>\n",
    " </ol>\n",
    " \n",
    "3. Fundamentals of Statistical Testing\n",
    "\n",
    "<ol style=\"list-style-type: none;\">\n",
    "    <li> 3.1 Understanding Hypotheses: Null and Alternative Hypotheses </li>\n",
    "    <li> 3.2 Types of Errors: Type I and Type II Errors </li>\n",
    "    <li> 3.3 P-Values and Significance Levels </li>\n",
    "    <li> 3.4 Assumptions of Statistical Tests </li>\n",
    "</ol>\n",
    "\n",
    "4. T-test\n",
    "\n",
    "<ol style=\"list-style-type: none;\">\n",
    "    <li> 4.1 One-Sample T-Test </li>\n",
    "    <li> 4.2 Independent Two-Sample T-Test </li>\n",
    "    <li> 4.3 Paired Sample T-Test    </li>\n",
    "    <li> 4.4 Implementing T-Tests in Python </li>\n",
    "</ol>\n",
    "\n",
    "5.  Chi-Square Tests\n",
    "\n",
    "<ol style=\"list-style-type: none;\">\n",
    "    <li> 5.1 Chi-Square Goodness-of-Fit Test </li>\n",
    "    <li> 5.2 Chi-Square Test of Independence </li>\n",
    "    <li> 5.3 Applications in Python  </li>\n",
    "</ol>    \n",
    "\n",
    "6. ANOVA (Analysis of Variance)\n",
    "\n",
    "<ol style=\"list-style-type: none;\">    \n",
    "    <li> 6.1 One-Way ANOVA </li>\n",
    "    <li> 6.2 Two-Way ANOVA </li>\n",
    "    <li> 6.3 Post-Hoc Tests (Tukey's HSD) </li>\n",
    "    <li> 6.4 Conducting ANOVA in Python </li>  \n",
    "</ol>\n",
    "\n",
    "7. Non-Parametric Tests\n",
    "\n",
    "<ol style=\"list-style-type: none;\">\n",
    "    <li> 7.1 Mann-Whitney U Test </li>\n",
    "    <li> 7.2 Wilcoxon Signed-Rank Test </li>\n",
    "    <li> 7.3 Kruskal-Wallis H Test </li>\n",
    "    <li> 7.4 Friedman Test </li>\n",
    "</ol>\n",
    "\n",
    "8. Python Implementation of Non-Parametric Tests\n",
    "\n",
    "<ol style=\"list-style-type: none;\">\n",
    "    <li> 8.1 Correlation and Regression Analysis </li>\n",
    "    <li> 8.2 Pearson and Spearman Correlation Coefficients </li>\n",
    "    <li> 8.3 Simple Linear Regression </li>\n",
    "    <li> 8.4 Multiple Linear Regression </li>\n",
    "    <li> 8.5 Correlation and Regression in Python </li>\n",
    "</ol>\n",
    "\n",
    "9. Advanced Statistical Tests\n",
    "\n",
    "<ol style=\"list-style-type: none;\">   \n",
    "    <li> 9.1 Z-Test </li>\n",
    "    <li> 9.2 Fisher’s Exact Test </li>\n",
    "    <li> 9.3 McNemar’s Test </li>\n",
    "    <li> 9.4 Advanced Tests in Python </li>\n",
    "    \n",
    "</ol>\n",
    "     \n",
    "10. Practical Applications\n",
    "\n",
    "<ol style=\"list-style-type: none;\">  \n",
    "    <li> 10.1 Choosing the Right Statistical Test </li>\n",
    "    <li> 10.2 Real-World Case Studies </li>\n",
    "    <li> 10.3 Interpreting and Reporting Results </li>\n",
    "    <li> 10.4 Tips and Best Practices </li>\n",
    "    <li> 10.5 Common Pitfalls in Statistical Testing </li>\n",
    "    <li> 10.6 Best Practices for Reliable Results </li>\n",
    "    <li> 10.7 Enhancing Your Statistical Skills </li>\n",
    "</ol>\n",
    "\n",
    "11. Conclusion\n",
    "<ol style=\"list-style-type: none;\"> \n",
    "<li> 11.1 Recap of Key Concepts </li>\n",
    "<li> 11.2 Further Reading and Resources </li>\n",
    "<li> 11.3 Next Steps in Data Science and Statistical Testing </li>\n",
    "</ol>"
   ]
  },
  {
   "cell_type": "code",
   "execution_count": null,
   "id": "2c774bfd",
   "metadata": {},
   "outputs": [],
   "source": []
  },
  {
   "cell_type": "code",
   "execution_count": null,
   "id": "a832c7bb",
   "metadata": {},
   "outputs": [],
   "source": []
  },
  {
   "cell_type": "markdown",
   "id": "ade9281d",
   "metadata": {},
   "source": [
    "### Chapter One: Introduction\n",
    "\n",
    " #### 1.1 Overview of Statistical Testing\n",
    "\n",
    "Statistical testing is a fundamental tool in data science and analytics, allowing you to make data-driven decisions with confidence. It provides a framework to evaluate hypotheses, quantify uncertainty, and draw inferences from data. At its core, statistical testing helps you determine whether a pattern or result observed in your data is statistically significant or if it could have occurred by chance.\n",
    "\n",
    "Statistical tests are used to:\n",
    "\n",
    "  1. Compare groups: Are two or more groups significantly different from each other? For example, are the means of two populations different?\n",
    "\n",
    "   2. Assess relationships: Is there a significant association between two variables? For example, does a correlation exist between two features?\n",
    "\n",
    "   3. Test assumptions: Do your data meet the assumptions required for further analysis? For example, does your data follow a normal distribution?\n",
    "\n",
    "\n",
    "In this eBook, we will explore various statistical tests, their assumptions, and their applications. You’ll learn when and how to use them, ensuring that your conclusions are statistically valid.\n",
    "\n",
    "\n",
    "#### 1.2 Importance of Statistical Tests in Data Science \n",
    "\n",
    "Statistical tests are crucial in data science for several reasons:\n",
    "\n",
    "1. Decision Making: Statistical tests provide a rigorous foundation for making decisions based on data. They help quantify the probability that an observed effect is real rather than due to random variation.\n",
    "\n",
    "2. Model Validation: In machine learning and predictive modeling, statistical tests can be used to validate models, ensuring that the results are not just a result of overfitting or chance.\n",
    "\n",
    "3. A/B Testing: Statistical tests are widely used in A/B testing, a common practice in business for comparing two versions of a product, feature, or treatment. By applying tests like the t-test or chi-square test, businesses can make data-driven decisions that lead to improved outcomes.\n",
    "\n",
    "4. Quality Control: In industries like manufacturing or healthcare, statistical tests are used to ensure that processes are in control and meet the required standards.\n",
    "\n",
    "5. Research and Innovation: For researchers, statistical tests provide the tools necessary to validate their hypotheses and contribute to scientific knowledge.\n",
    "\n",
    "In summary, statistical testing is an essential part of the data science toolkit, enabling professionals to turn raw data into actionable insights and validated conclusions.\n",
    "\n",
    "#### 1.3 Introduction to Python Programming\n",
    "\n",
    "Python is a versatile and user-friendly programming language that has gained immense popularity for its simplicity and readability. Created by Guido van Rossum and first released in 1991, Python is designed to be straightforward and intuitive, making it an excellent choice for both beginners and experienced developers. Its clean syntax allows programmers to write clear and logical code with ease, focusing more on problem-solving rather than on complex syntax rules.\n",
    "\n",
    "With applications ranging from web development to data analysis and artificial intelligence, Python’s extensive libraries and frameworks offer powerful tools for a wide variety of tasks. Its large and supportive community ensures ample resources and assistance for learners at any stage. Whether you are exploring programming for the first time or seeking to enhance your coding skills, Python provides a robust and accessible platform to achieve your goals.\n"
   ]
  },
  {
   "cell_type": "code",
   "execution_count": null,
   "id": "195c3965",
   "metadata": {},
   "outputs": [],
   "source": []
  },
  {
   "cell_type": "code",
   "execution_count": null,
   "id": "99556fa4",
   "metadata": {},
   "outputs": [],
   "source": []
  },
  {
   "cell_type": "markdown",
   "id": "e2e037b8",
   "metadata": {},
   "source": [
    "### Chapter 2: Getting Started with Python\n",
    "\n",
    "#### 2.1 Setting Up Your Python Environment\n",
    "\n",
    "Before diving into statistical tests, it's important to have a properly configured Python environment. Setting up your environment involves installing Python, along with essential libraries that will allow you to perform data manipulation, statistical analysis, and visualization.\n",
    "\n",
    "1. Installing Python:\n",
    "First, ensure that Python is installed on your system. You can download the latest version of Python from the official website python.org. For data science work, Python 3.x is recommended.\n",
    "\n",
    "2. Installing a Code Editor or IDE:\n",
    "To write and execute Python code, you’ll need a code editor or an Integrated Development Environment (IDE). Popular options include:\n",
    "\n",
    "<b> Jupyter Notebook : </b> Ideal for data analysis and exploratory work, allowing you to combine code, visualizations, and narrative text in a single document.\n",
    "\n",
    "<b> VS Code: </b> A versatile code editor with support for Python, offering extensions and features suited for data science.\n",
    "\n",
    "<b> PyCharm: </b> A full-featured IDE for Python development, offering advanced debugging and project management features.\n",
    "\n",
    "3. Installing Essential Python Libraries:\n",
    "\n",
    "Use the package manager pip to install the necessary libraries. Open your terminal or command prompt and run the following commands:"
   ]
  },
  {
   "cell_type": "code",
   "execution_count": null,
   "id": "51568b54",
   "metadata": {},
   "outputs": [],
   "source": [
    "! pip install numpy pandas scipy statsmodels matplotlib seaborn"
   ]
  },
  {
   "cell_type": "markdown",
   "id": "b8ee9ea3",
   "metadata": {},
   "source": [
    "This command installs:\n",
    "\n",
    "1. NumPy: For numerical operations and array manipulation.\n",
    "2. Pandas: For data manipulation and analysis.\n",
    "3. SciPy: For statistical functions and tests.\n",
    "4. Statsmodels: For statistical modeling and hypothesis testing.\n",
    "5. Matplotlib and Seaborn: For data visualization.\n",
    "\n",
    "Once your environment is set up, you’re ready to start working with data and applying statistical tests in Python.\n",
    "\n",
    "\n",
    "#### 2.2 Overview of Key Python Libraries for Statistics \n",
    "\n",
    "Python's extensive library ecosystem is what makes it so powerful for data science and statistical testing. Let’s take a closer look at the core libraries you’ll be using in this eBook:\n",
    "\n",
    "1. NumPy:\n",
    "NumPy is the foundation for numerical computing in Python. It provides support for arrays (multi-dimensional, fixed-size arrays) and mathematical functions to operate on these arrays. NumPy is essential for handling the numerical data that statistical tests require.\n",
    "\n",
    "Key Features: <br>\n",
    "\n",
    "Efficient array operations\n",
    "\n",
    "Mathematical functions (e.g., mean, standard deviation)\n",
    "Random number generation\n",
    "\n",
    "2. Pandas:\n",
    "Pandas is a powerful library for data manipulation and analysis. It introduces two main data structures: Series (1D) and DataFrame (2D), which make it easy to work with structured data (e.g., spreadsheets or databases). Pandas is especially useful for cleaning, transforming, and exploring data before performing statistical tests.\n",
    "\n",
    "Key Features:\n",
    "\n",
    "Data cleaning and transformation\n",
    "Handling missing data\n",
    "Grouping and aggregating data\n",
    "Merging and joining datasets\n",
    "\n",
    "\n",
    "3. SciPy:\n",
    "SciPy builds on NumPy, adding a wide range of scientific and mathematical tools, including statistical functions and hypothesis tests. It’s one of the go-to libraries for performing statistical tests in Python.\n",
    "\n",
    "Key Features:\n",
    "\n",
    "Probability distributions\n",
    "Statistical functions (e.g., t-tests, chi-square tests)\n",
    "Optimization and integration\n",
    "\n",
    "\n",
    "4. Statsmodels:\n",
    "Statsmodels is a library for estimating statistical models, conducting hypothesis tests, and exploring data. It offers more advanced statistical tools compared to SciPy, making it ideal for regression analysis and other modeling tasks.\n",
    "\n",
    "Key Features:\n",
    "\n",
    "Linear and logistic regression\n",
    "Time series analysis\n",
    "Statistical tests (e.g., ANOVA, Z-test)\n",
    "Detailed output and summary of models\n",
    "\n",
    "\n",
    "#### 2.3 Basic Data Manipulation and Exploration\n",
    "Before conducting any statistical tests, it's crucial to understand your data. Data manipulation and exploration help you clean the data, identify patterns, and ensure that it meets the assumptions of the statistical tests you plan to perform.\n",
    "\n",
    "1. Loading Data:\n",
    "Pandas makes it easy to load data from various sources such as CSV files, Excel files, and SQL databases. For example:"
   ]
  },
  {
   "cell_type": "code",
   "execution_count": 10,
   "id": "92b09c94",
   "metadata": {},
   "outputs": [],
   "source": [
    "import pandas as pd\n",
    "\n",
    "# Load a CSV file into a DataFrame\n",
    "df = pd.read_csv('data.csv')"
   ]
  },
  {
   "cell_type": "markdown",
   "id": "4ffb761f",
   "metadata": {},
   "source": [
    "2. Exploring Data:\n",
    "Use Pandas to quickly explore your data:\n",
    "\n",
    "Inspect the first few rows:\n"
   ]
  },
  {
   "cell_type": "code",
   "execution_count": 11,
   "id": "97dd7b43",
   "metadata": {},
   "outputs": [
    {
     "data": {
      "text/html": [
       "<div>\n",
       "<style scoped>\n",
       "    .dataframe tbody tr th:only-of-type {\n",
       "        vertical-align: middle;\n",
       "    }\n",
       "\n",
       "    .dataframe tbody tr th {\n",
       "        vertical-align: top;\n",
       "    }\n",
       "\n",
       "    .dataframe thead th {\n",
       "        text-align: right;\n",
       "    }\n",
       "</style>\n",
       "<table border=\"1\" class=\"dataframe\">\n",
       "  <thead>\n",
       "    <tr style=\"text-align: right;\">\n",
       "      <th></th>\n",
       "      <th>Group 1</th>\n",
       "      <th>Group 2</th>\n",
       "    </tr>\n",
       "  </thead>\n",
       "  <tbody>\n",
       "    <tr>\n",
       "      <th>0</th>\n",
       "      <td>88.0</td>\n",
       "      <td>78.0</td>\n",
       "    </tr>\n",
       "    <tr>\n",
       "      <th>1</th>\n",
       "      <td>92.0</td>\n",
       "      <td>NaN</td>\n",
       "    </tr>\n",
       "    <tr>\n",
       "      <th>2</th>\n",
       "      <td>NaN</td>\n",
       "      <td>82.0</td>\n",
       "    </tr>\n",
       "    <tr>\n",
       "      <th>3</th>\n",
       "      <td>90.0</td>\n",
       "      <td>80.0</td>\n",
       "    </tr>\n",
       "    <tr>\n",
       "      <th>4</th>\n",
       "      <td>85.0</td>\n",
       "      <td>75.0</td>\n",
       "    </tr>\n",
       "  </tbody>\n",
       "</table>\n",
       "</div>"
      ],
      "text/plain": [
       "   Group 1  Group 2\n",
       "0     88.0     78.0\n",
       "1     92.0      NaN\n",
       "2      NaN     82.0\n",
       "3     90.0     80.0\n",
       "4     85.0     75.0"
      ]
     },
     "execution_count": 11,
     "metadata": {},
     "output_type": "execute_result"
    }
   ],
   "source": [
    "df.head()"
   ]
  },
  {
   "cell_type": "code",
   "execution_count": 12,
   "id": "3f9b65df",
   "metadata": {},
   "outputs": [
    {
     "data": {
      "text/html": [
       "<div>\n",
       "<style scoped>\n",
       "    .dataframe tbody tr th:only-of-type {\n",
       "        vertical-align: middle;\n",
       "    }\n",
       "\n",
       "    .dataframe tbody tr th {\n",
       "        vertical-align: top;\n",
       "    }\n",
       "\n",
       "    .dataframe thead th {\n",
       "        text-align: right;\n",
       "    }\n",
       "</style>\n",
       "<table border=\"1\" class=\"dataframe\">\n",
       "  <thead>\n",
       "    <tr style=\"text-align: right;\">\n",
       "      <th></th>\n",
       "      <th>Group 1</th>\n",
       "      <th>Group 2</th>\n",
       "    </tr>\n",
       "  </thead>\n",
       "  <tbody>\n",
       "    <tr>\n",
       "      <th>count</th>\n",
       "      <td>5.000000</td>\n",
       "      <td>5.000000</td>\n",
       "    </tr>\n",
       "    <tr>\n",
       "      <th>mean</th>\n",
       "      <td>88.400000</td>\n",
       "      <td>78.800000</td>\n",
       "    </tr>\n",
       "    <tr>\n",
       "      <th>std</th>\n",
       "      <td>2.701851</td>\n",
       "      <td>2.588436</td>\n",
       "    </tr>\n",
       "    <tr>\n",
       "      <th>min</th>\n",
       "      <td>85.000000</td>\n",
       "      <td>75.000000</td>\n",
       "    </tr>\n",
       "    <tr>\n",
       "      <th>25%</th>\n",
       "      <td>87.000000</td>\n",
       "      <td>78.000000</td>\n",
       "    </tr>\n",
       "    <tr>\n",
       "      <th>50%</th>\n",
       "      <td>88.000000</td>\n",
       "      <td>79.000000</td>\n",
       "    </tr>\n",
       "    <tr>\n",
       "      <th>75%</th>\n",
       "      <td>90.000000</td>\n",
       "      <td>80.000000</td>\n",
       "    </tr>\n",
       "    <tr>\n",
       "      <th>max</th>\n",
       "      <td>92.000000</td>\n",
       "      <td>82.000000</td>\n",
       "    </tr>\n",
       "  </tbody>\n",
       "</table>\n",
       "</div>"
      ],
      "text/plain": [
       "         Group 1    Group 2\n",
       "count   5.000000   5.000000\n",
       "mean   88.400000  78.800000\n",
       "std     2.701851   2.588436\n",
       "min    85.000000  75.000000\n",
       "25%    87.000000  78.000000\n",
       "50%    88.000000  79.000000\n",
       "75%    90.000000  80.000000\n",
       "max    92.000000  82.000000"
      ]
     },
     "execution_count": 12,
     "metadata": {},
     "output_type": "execute_result"
    }
   ],
   "source": [
    "# Get a summary of the data:\n",
    "\n",
    "df.describe()"
   ]
  },
  {
   "cell_type": "code",
   "execution_count": 13,
   "id": "c12d5414",
   "metadata": {},
   "outputs": [
    {
     "data": {
      "text/plain": [
       "Group 1    1\n",
       "Group 2    1\n",
       "dtype: int64"
      ]
     },
     "execution_count": 13,
     "metadata": {},
     "output_type": "execute_result"
    }
   ],
   "source": [
    "# Check for missing values:\n",
    "\n",
    "df.isnull().sum()\n"
   ]
  },
  {
   "cell_type": "code",
   "execution_count": 14,
   "id": "9b1ce09a",
   "metadata": {},
   "outputs": [
    {
     "data": {
      "text/plain": [
       "Group 1    float64\n",
       "Group 2    float64\n",
       "dtype: object"
      ]
     },
     "execution_count": 14,
     "metadata": {},
     "output_type": "execute_result"
    }
   ],
   "source": [
    "# View data types of each column:\n",
    "\n",
    "df.dtypes"
   ]
  },
  {
   "cell_type": "markdown",
   "id": "c80356d0",
   "metadata": {},
   "source": [
    "3. Data Cleaning:\n",
    "    \n",
    "Before analysis, it’s essential to clean your data. This might involve:\n",
    "\n",
    "    a. Handling missing values (e.g., filling, dropping)\n",
    "    b. Converting data types\n",
    "    c. Removing duplicates\n",
    "    d. Filtering rows or columns\n",
    "\n",
    "4. Data Transformation:\n",
    "\n",
    "Sometimes, data needs to be transformed to meet the assumptions of statistical tests. Common transformations include:\n",
    "\n",
    "    a. Normalization or scaling of data  \n",
    "    b. Log transformations    \n",
    "    c. Creating new features or variables\n",
    "\n",
    "5. Visualizing Data:\n",
    "\n",
    "Visualizations help you understand the distribution and relationships within your data. Libraries like Matplotlib and Seaborn are great for creating plots such as histograms, scatter plots, and box plots."
   ]
  },
  {
   "cell_type": "code",
   "execution_count": 15,
   "id": "9c61a06a",
   "metadata": {},
   "outputs": [],
   "source": [
    "import seaborn as sns\n",
    "import matplotlib.pyplot as plt"
   ]
  },
  {
   "cell_type": "code",
   "execution_count": 16,
   "id": "bdbbf8ff",
   "metadata": {},
   "outputs": [
    {
     "data": {
      "image/png": "[encoded data removed]",
      "text/plain": [
       "<Figure size 640x480 with 1 Axes>"
      ]
     },
     "metadata": {},
     "output_type": "display_data"
    }
   ],
   "source": [
    "# Example: Histogram of a numerical column \n",
    "    \n",
    "sns.histplot(df['Group 1'])\n",
    "plt.show()"
   ]
  },
  {
   "cell_type": "markdown",
   "id": "9dc100c2",
   "metadata": {},
   "source": [
    "By mastering these basic data manipulation and exploration techniques, you’ll be well-prepared to perform statistical tests on your data.\n",
    "\n",
    "This chapter provided the foundation for working with Python in a data science context. In the next chapter, we’ll dive into the fundamentals of statistical testing, setting the stage for the more advanced analyses that follow.\n"
   ]
  },
  {
   "cell_type": "code",
   "execution_count": null,
   "id": "930ea0a6",
   "metadata": {},
   "outputs": [],
   "source": []
  },
  {
   "cell_type": "code",
   "execution_count": null,
   "id": "d341937f",
   "metadata": {},
   "outputs": [],
   "source": []
  },
  {
   "cell_type": "markdown",
   "id": "58793acb",
   "metadata": {},
   "source": [
    "### Chapter 3: Fundamentals of Statistical Testing\n",
    "\n",
    "#### 3.1 Understanding Hypotheses: Null and Alternative Hypotheses\n",
    "\n",
    "At the heart of statistical testing is hypothesis testing, a method used to evaluate assumptions or claims about a population based on sample data. The process begins with formulating two competing hypotheses:\n",
    "\n",
    "1. Null Hypothesis (H₀):\n",
    "\n",
    "The null hypothesis is the default assumption or claim that there is no effect, no difference, or no relationship between variables. It represents the status quo or a baseline belief that any observed differences in data are due to random chance.\n",
    "\n",
    "Example: <br>\n",
    "In an A/B test comparing two website designs, the null hypothesis might state that the conversion rates for both designs are the same: <br>\n",
    "H₀: μ₁ = μ₂ (where μ₁ and μ₂ are the mean conversion rates for each design).\n",
    "\n",
    "2. Alternative Hypothesis (H₁ or Ha):\n",
    "\n",
    "The alternative hypothesis is the claim that there is an effect, a difference, or a relationship between variables. It suggests that any observed differences are not due to random chance but reflect a true effect in the population.\n",
    "\n",
    "Example:<br>\n",
    "Continuing with the A/B test example, the alternative hypothesis might state that the conversion rates for the two designs are different: <br>\n",
    "H₁: μ₁ ≠ μ₂.\n",
    "<br>\n",
    "<b>In hypothesis testing</b>, the goal is to collect evidence from the data to determine whether there is sufficient reason to reject the null hypothesis in favor of the alternative hypothesis.\n",
    "\n",
    "#### 3.2 Types of Errors: Type I and Type II Errors \n",
    "\n",
    "In statistical testing, decisions are made based on sample data, which means there's always a possibility of making an incorrect conclusion. The two main types of errors in hypothesis testing are:\n",
    "\n",
    "1. Type I Error (False Positive):\n",
    "    A Type I error occurs when the null hypothesis is rejected when it is actually true. In other words, you conclude that     there is an effect or difference when there isn't one. <br>\n",
    "\n",
    "    Probability of Type I Error : The probability of making a Type I error is denoted by α (alpha), which is also known as       the significance level. A common choice for α is 0.05, meaning there's a 5% chance of rejecting the null hypothesis         incorrectly.\n",
    "    \n",
    "    Example: <br>\n",
    "    In a clinical trial, a Type I error would mean concluding that a new drug is effective when, in reality, it is not.\n",
    "\n",
    "2. Type II Error (False Negative):\n",
    "    A Type II error occurs when the null hypothesis is not rejected when it is actually false. This means that you fail to     detect an effect or difference that truly exists. <br>\n",
    "\n",
    "     Probability of Type II Error: The probability of making a Type II error is denoted by β (beta). The power of a test (1       - β) is the probability of correctly rejecting the null hypothesis when it is false.\n",
    "\n",
    "    Example: <br>\n",
    "    In the same clinical trial, a Type II error would mean concluding that the drug is not effective when, in reality, it       is.\n",
    "\n",
    "3. Balancing Errors:\n",
    "    \n",
    "There's often a trade-off between Type I and Type II errors. Decreasing the probability of one type of error typically increases the probability of the other. The choice of significance level (α) depends on the context and the consequences of making either type of error.\n",
    "\n",
    "#### 3.3 P-Values and Significance Levels \n",
    "    \n",
    "1. P-Value:\n",
    "The p-value is a measure of the strength of evidence against the null hypothesis. It represents the probability of observing the data (or something more extreme) if the null hypothesis is true.\n",
    "\n",
    "Interpreting the P-Value:\n",
    "Low P-Value (e.g., p < 0.05): The data provides strong evidence against the null hypothesis, and you may reject H₀.\n",
    "High P-Value (e.g., p > 0.05): The data does not provide sufficient evidence against the null hypothesis, and you fail to reject H₀.\n",
    "\n",
    "\n",
    "2. Significance Level (α):\n",
    "The significance level is a threshold for determining whether the p-value is low enough to reject the null hypothesis. It defines the probability of committing a Type I error. Common choices for α include 0.05, 0.01, and 0.10.\n",
    "\n",
    "Decision Rule: <br>\n",
    "If p-value ≤ α, reject the null hypothesis (statistically significant result). <br>\n",
    "If p-value > α, fail to reject the null hypothesis (not statistically significant).\n",
    "\n",
    "Example: <br>\n",
    "Suppose you perform a t-test to compare the means of two groups, and the resulting p-value is 0.03. If you’ve set your significance level at α = 0.05, you would reject the null hypothesis, concluding that the difference between the groups is statistically significant.\n",
    "\n",
    "#### 3.4 Assumptions of Statistical Tests \n",
    "    \n",
    "Each statistical test relies on certain assumptions about the data. Violating these assumptions can lead to incorrect conclusions. Common assumptions include:\n",
    "\n",
    "1. Normality:\n",
    "Many parametric tests assume that the data follows a normal distribution. This is especially important for tests like the t-test and ANOVA. If the normality assumption is violated, non-parametric tests (e.g., Mann-Whitney U test) may be used instead.\n",
    "\n",
    "2. Homogeneity of Variances:\n",
    "For tests comparing multiple groups (e.g., ANOVA), the assumption is that the variances of the groups are equal. This is also known as the homogeneity of variances or homoscedasticity assumption. If this assumption is violated, alternative methods like Welch’s t-test may be applied.\n",
    "\n",
    "3. Independence:\n",
    "The observations in your data should be independent of each other. This means that the outcome of one observation should not influence the outcome of another. Violating this assumption can lead to biased results.\n",
    "\n",
    "4. Linearity:\n",
    "In regression analysis, there is an assumption that the relationship between the independent and dependent variables is linear. Non-linear relationships can lead to poor model fit and inaccurate predictions.\n",
    "\n",
    "5. Sample Size:\n",
    "Some tests require a minimum sample size to produce reliable results. For example, the central limit theorem suggests that for large sample sizes (typically n ≥ 30), the sampling distribution of the mean will be approximately normal, regardless of the distribution of the data.\n",
    "\n",
    "<b> Checking Assumptions </b>:\n",
    "Before performing a statistical test, it's crucial to check whether the data meets the necessary assumptions. This can be done using various diagnostic tests and visualizations (e.g., Q-Q plots for normality, Levene's test for equal variances).\n"
   ]
  },
  {
   "cell_type": "code",
   "execution_count": null,
   "id": "57525936",
   "metadata": {},
   "outputs": [],
   "source": []
  },
  {
   "cell_type": "code",
   "execution_count": null,
   "id": "adfe1ff6",
   "metadata": {},
   "outputs": [],
   "source": []
  },
  {
   "cell_type": "markdown",
   "id": "218ab5bc",
   "metadata": {},
   "source": [
    "### Chapter 4: T-Tests\n",
    "\n",
    "T-tests are among the most commonly used statistical tests for comparing the means of groups. They help determine whether the difference in means is statistically significant or likely due to random chance. In this chapter, we'll cover the three main types of t-tests: one-sample, independent two-sample, and paired sample t-tests. We’ll also explore how to implement these tests in Python.\n",
    "\n",
    "#### 4.1  One-Sample T-Test \n",
    "\n",
    "A one-sample t-test is used to determine whether the mean of a single sample differs significantly from a known or hypothesized population mean. This test is useful when you want to compare the sample mean to a specific value.\n",
    "\n",
    "<b> When to Use: <b>\n",
    "\n",
    "You have one group and want to test whether its mean differs from a known value.\n",
    "    \n",
    "Hypotheses:\n",
    "\n",
    "Null Hypothesis (H₀): The sample mean is equal to the population mean (μ = μ₀).\n",
    "Alternative Hypothesis (H₁): The sample mean is not equal to the population mean (μ ≠ μ₀).\n",
    "    \n",
    "Example:\n",
    "Suppose you want to test whether the average height of a sample of students differs from the known average height of 170 cm.\n",
    "\n",
    "#### 4.2 Independent Two-Sample T-Test\n",
    "    \n",
    "An independent two-sample t-test (also called a two-sample t-test) is used to compare the means of two independent groups. This test helps determine whether the difference in means between the two groups is statistically significant.\n",
    "\n",
    "<b> When to Use: <b>\n",
    "\n",
    "You have two independent groups and want to compare their means.\n",
    "Hypotheses:\n",
    "\n",
    "Null Hypothesis (H₀): The means of the two groups are equal (μ₁ = μ₂).\n",
    "Alternative Hypothesis (H₁): The means of the two groups are not equal (μ₁ ≠ μ₂).\n",
    "    \n",
    "Example:\n",
    "Suppose you want to test whether there is a significant difference in exam scores between two different classes.\n",
    "\n",
    "Assumptions:\n",
    "\n",
    "The data in both groups are normally distributed.\n",
    "The variances of the two groups are equal (homogeneity of variances).\n",
    "If the assumption of equal variances is violated, you can use Welch’s t-test, a variation of the independent two-sample t-test that does not assume equal variances.\n",
    "\n",
    "#### 4.3 Paired Sample T-Test\n",
    "    \n",
    "A paired sample t-test (also called a dependent t-test) is used to compare the means of two related groups. This test is typically used when you have measurements from the same subjects at two different time points or under two different conditions.\n",
    "\n",
    "When to Use:\n",
    "\n",
    "You have two related groups (e.g., before and after measurements) and want to compare their means.\n",
    "Hypotheses:\n",
    "\n",
    "Null Hypothesis (H₀): The mean difference between the paired observations is zero (μ₁ - μ₂ = 0).\n",
    "Alternative Hypothesis (H₁): The mean difference between the paired observations is not zero (μ₁ - μ₂ ≠ 0).\n",
    "Example:\n",
    "Suppose you want to test whether a training program significantly improves performance by comparing the test scores of participants before and after the program.\n",
    "\n",
    "<b>Assumptions:</b> <br>\n",
    "\n",
    "The differences between the paired observations are normally distributed."
   ]
  },
  {
   "cell_type": "markdown",
   "id": "bba524f3",
   "metadata": {},
   "source": [
    "#### 4.4 Implementing T-test in Python"
   ]
  },
  {
   "cell_type": "markdown",
   "id": "bd2a6ec9",
   "metadata": {},
   "source": [
    "Implementation of one sample t-test"
   ]
  },
  {
   "cell_type": "code",
   "execution_count": 17,
   "id": "b17520ed",
   "metadata": {},
   "outputs": [
    {
     "name": "stdout",
     "output_type": "stream",
     "text": [
      "T-statistic: 1.3333333333333428\n",
      "P-value: 0.2191383605228697\n"
     ]
    }
   ],
   "source": [
    "from scipy import stats\n",
    "\n",
    "# Sample data\n",
    "data = [172, 168, 177, 170, 169, 171, 174, 173, 168]\n",
    "\n",
    "# Perform one-sample t-test\n",
    "population_mean = 170\n",
    "t_stat, p_value = stats.ttest_1samp(data, population_mean)\n",
    "\n",
    "print(f\"T-statistic: {t_stat}\")\n",
    "print(f\"P-value: {p_value}\")\n"
   ]
  },
  {
   "cell_type": "markdown",
   "id": "3aa40d30",
   "metadata": {},
   "source": [
    "Interpreting Results:\n",
    "\n",
    "If the p-value is less than your significance level (e.g., 0.05), reject the null hypothesis and conclude that the sample mean differs significantly from the population mean."
   ]
  },
  {
   "cell_type": "markdown",
   "id": "54782b6f",
   "metadata": {},
   "source": [
    "Implementing independent two-sample t-test"
   ]
  },
  {
   "cell_type": "code",
   "execution_count": 18,
   "id": "1f082611",
   "metadata": {},
   "outputs": [
    {
     "name": "stdout",
     "output_type": "stream",
     "text": [
      "T-statistic: 6.18146635643918\n",
      "P-value: 0.00010394333985341284\n"
     ]
    }
   ],
   "source": [
    "# Sample data for two groups\n",
    "group1 = [88, 92, 95, 90, 85, 87]\n",
    "group2 = [78, 82, 80, 77, 75, 79]\n",
    "\n",
    "# Perform independent two-sample t-test\n",
    "t_stat, p_value = stats.ttest_ind(group1, group2)\n",
    "\n",
    "print(f\"T-statistic: {t_stat}\")\n",
    "print(f\"P-value: {p_value}\")\n"
   ]
  },
  {
   "cell_type": "markdown",
   "id": "7e9f03ef",
   "metadata": {},
   "source": [
    "Welch’s T-Test (if variances are unequal):"
   ]
  },
  {
   "cell_type": "code",
   "execution_count": 19,
   "id": "0dc97ed3",
   "metadata": {},
   "outputs": [
    {
     "name": "stdout",
     "output_type": "stream",
     "text": [
      "t_stat 6.18146635643918\n",
      "p_value 0.0001832668169522048\n"
     ]
    }
   ],
   "source": [
    "t_stat, p_value = stats.ttest_ind(group1, group2, equal_var=False)\n",
    "print('t_stat', t_stat)\n",
    "print('p_value', p_value)"
   ]
  },
  {
   "cell_type": "markdown",
   "id": "255ebcb3",
   "metadata": {},
   "source": [
    "Interpreting Results:\n",
    "\n",
    "If the p-value is less than your significance level (e.g., 0.05), reject the null hypothesis and conclude that there is a significant difference between the means of the two groups."
   ]
  },
  {
   "cell_type": "markdown",
   "id": "311ed75a",
   "metadata": {},
   "source": [
    "Implementing Paired Sample T-Test:"
   ]
  },
  {
   "cell_type": "code",
   "execution_count": 20,
   "id": "80cf775f",
   "metadata": {},
   "outputs": [
    {
     "name": "stdout",
     "output_type": "stream",
     "text": [
      "T-statistic: -9.797958971132713\n",
      "P-value: 0.0006081849444633356\n"
     ]
    }
   ],
   "source": [
    "# Sample data for paired observations (e.g., before and after)\n",
    "before = [72, 75, 78, 80, 79]\n",
    "after = [75, 78, 80, 82, 81]\n",
    "\n",
    "# Perform paired sample t-test\n",
    "t_stat, p_value = stats.ttest_rel(before, after)\n",
    "\n",
    "print(f\"T-statistic: {t_stat}\")\n",
    "print(f\"P-value: {p_value}\")\n"
   ]
  },
  {
   "cell_type": "markdown",
   "id": "7b4ca637",
   "metadata": {},
   "source": [
    "Interpreting Results:\n",
    "\n",
    "If the p-value is less than your significance level (e.g., 0.05), reject the null hypothesis and conclude that there is a significant difference between the paired observations."
   ]
  },
  {
   "cell_type": "code",
   "execution_count": null,
   "id": "77ea9489",
   "metadata": {},
   "outputs": [],
   "source": []
  },
  {
   "cell_type": "code",
   "execution_count": null,
   "id": "3c0075f3",
   "metadata": {},
   "outputs": [],
   "source": []
  },
  {
   "cell_type": "markdown",
   "id": "b3c188a3",
   "metadata": {},
   "source": [
    "\n",
    "### Chapter 5: Chi-Square Tests\n",
    "\n",
    "Chi-Square tests are widely used for analyzing categorical data. They help determine whether observed data fits expected distributions or whether there is an association between categorical variables. This chapter covers two key types of Chi-Square tests: the Goodness-of-Fit test and the Test of Independence. We’ll also walk through how to implement these tests in Python.\n",
    "\n",
    "#### 5.1 Chi-Square Goodness-of-Fit Test \n",
    "\n",
    "The Chi-Square Goodness-of-Fit test is used to determine whether the observed frequencies of a categorical variable differ significantly from the expected frequencies. This test is helpful when you want to assess whether a sample distribution matches a theoretical or known distribution.\n",
    "\n",
    "<b>When to Use: </b> <br>\n",
    "\n",
    "You want to compare the observed distribution of a single categorical variable to an expected distribution.\n",
    "Hypotheses:\n",
    "\n",
    "Null Hypothesis (H₀): The observed frequencies match the expected frequencies. <br>\n",
    "Alternative Hypothesis (H₁): The observed frequencies do not match the expected frequencies.\n",
    "\n",
    "Example:  <br>\n",
    "Suppose you roll a six-sided die 60 times and want to test whether the die is fair, meaning each face should appear 10 times.\n",
    "\n",
    "Formula:<br>\n",
    "The Chi-Square statistic is calculated as:\n",
    "\n",
    "$$ \\chi^2 = \\sum \\frac{(O_i - E_i)^2}{E_i} $$\n",
    "\n",
    "\n",
    "(O_i) = Observed frequency ( the actual data observed in each category) <br>\n",
    "(E_i) = Expected frequency ( the frequency expected if there were no association between variables, or if the data fit the expected distribution) <br>\n",
    "The summation of ((\\Sum)) is over categories or cells in the contingency table. \n",
    "\n",
    "    \n",
    "#### 5.2 Chi-Square Test of Independence   \n",
    "    \n",
    "The Chi-Square Test of Independence is used to determine whether there is a significant association between two categorical variables. This test helps assess whether the distribution of one variable is independent of the distribution of another variable.\n",
    "\n",
    "    \n",
    "<b> When to Use <b>: <br>\n",
    "\n",
    "You want to test whether two categorical variables are independent of each other.\n",
    "Hypotheses:\n",
    "\n",
    "Null Hypothesis (H₀): The two variables are independent (no association). <br>\n",
    "Alternative Hypothesis (H₁): The two variables are not independent (there is an association).\n",
    "Example:\n",
    "Suppose you want to test whether there is an association between gender (male/female) and preference for a product (like/dislike).\n",
    "\n",
    "Contingency Table: <br>\n",
    "The data for a Chi-Square Test of Independence is typically organized in a contingency table, where the rows represent one categorical variable and the columns represent another.\n",
    "\n",
    " \n",
    "#### 5.3 Applications in Python\n",
    "    \n",
    "Python’s SciPy and Pandas libraries provide straightforward ways to conduct Chi-Square tests. Below are examples of how to perform the Chi-Square Goodness-of-Fit test and the Chi-Square Test of Independence in Python.\n",
    "\n",
    "1. Chi-Square Goodness-of-Fit Test: Use scipy.stats.chisquare() function.\n",
    "2. Chi-Square Test of Independence: Use scipy.stats.chi2_contingency() function to analyze a contingency table."
   ]
  },
  {
   "cell_type": "code",
   "execution_count": 16,
   "id": "e73c4b52",
   "metadata": {},
   "outputs": [
    {
     "name": "stdout",
     "output_type": "stream",
     "text": [
      "Chi2 Statistic: 20.0, p-value: 0.00016974243555282632\n",
      "Chi2 Statistic: 15.041666666666666, p-value: 0.00010516355403363098, Degrees of Freedom: 1\n"
     ]
    }
   ],
   "source": [
    "from scipy import stats\n",
    "import numpy as np\n",
    "\n",
    "# Example for Chi-Square Goodness-of-Fit Test\n",
    "observed_frequencies = [30, 10, 20, 40]\n",
    "expected_frequencies = [25, 25, 25, 25]\n",
    "chi2_stat, p_value = stats.chisquare(observed_frequencies, expected_frequencies)\n",
    "\n",
    "print(f\"Chi2 Statistic: {chi2_stat}, p-value: {p_value}\")\n",
    "\n",
    "# Example for Chi-Square Test of Independence\n",
    "contingency_table = np.array([[30, 10], [20, 40]])\n",
    "chi2_stat, p_value, dof, expected = stats.chi2_contingency(contingency_table)\n",
    "\n",
    "print(f\"Chi2 Statistic: {chi2_stat}, p-value: {p_value}, Degrees of Freedom: {dof}\")\n"
   ]
  },
  {
   "cell_type": "markdown",
   "id": "c1ff1fa3",
   "metadata": {},
   "source": [
    "To interpret the chi-square test results you provided, let’s break down the information for each result:\n",
    "\n",
    "##### 1. Chi-Square Goodness-of-Fit Test\n",
    "- **Chi2 Statistic**: 20.0\n",
    "- **p-value**: 0.00016974243555282632\n",
    "\n",
    "**Interpretation**:\n",
    "- The **chi-square statistic** of 20.0 is the calculated value based on the observed and expected frequencies.\n",
    "- The **p-value** of 0.00017 (rounded) indicates the probability of observing a chi-square statistic as extreme as 20.0, or more extreme, under the null hypothesis.\n",
    "\n",
    "**Decision**:\n",
    "- The p-value is very small (much less than common significance levels such as 0.05 or 0.01), which suggests strong evidence against the null hypothesis.\n",
    "- **Conclusion**: You would reject the null hypothesis. This means that the observed frequencies significantly differ from the expected frequencies, indicating that the data does not follow the expected distribution.\n",
    "\n",
    "##### 2. Chi-Square Test of Independence\n",
    "- **Chi2 Statistic**: 15.041666666666666\n",
    "- **p-value**: 0.00010516355403363098\n",
    "- **Degrees of Freedom**: 1\n",
    "\n",
    "**Interpretation**:\n",
    "- The **chi-square statistic** of 15.04 is the value obtained from analyzing the contingency table.\n",
    "- The **p-value** of 0.000105 (rounded) is very small and represents the probability of observing a chi-square statistic as extreme as 15.04, or more extreme, if the null hypothesis is true.\n",
    "- The **degrees of freedom** (1) are calculated based on the number of categories in the variables being tested. For a contingency table, it is typically \\((r-1) \\times (c-1)\\), where \\(r\\) and \\(c\\) are the number of rows and columns.\n",
    "\n",
    "**Decision**:\n",
    "- Since the p-value is significantly less than common significance levels (like 0.05 or 0.01), you would reject the null hypothesis.\n",
    "- **Conclusion**: There is a significant association between the two categorical variables, meaning they are not independent. The data shows a relationship or dependency between the variables in your contingency table.\n",
    "\n",
    "##### Summary\n",
    "\n",
    "In both cases:\n",
    "- The chi-square statistics indicate the degree of discrepancy between observed and expected values or between categorical variables.\n",
    "- The extremely low p-values suggest strong evidence against the null hypotheses, leading to their rejection.\n",
    "\n",
    "This means:\n",
    "- For the goodness-of-fit test, the data does not fit the expected distribution.\n",
    "- For the test of independence, there is a significant relationship between the categorical variables."
   ]
  },
  {
   "cell_type": "code",
   "execution_count": null,
   "id": "0974043c",
   "metadata": {},
   "outputs": [],
   "source": []
  },
  {
   "cell_type": "code",
   "execution_count": null,
   "id": "fd50bf02",
   "metadata": {},
   "outputs": [],
   "source": []
  },
  {
   "cell_type": "markdown",
   "id": "6d4eb8ad",
   "metadata": {},
   "source": [
    "### 6. ANOVA (Analysis of Variance)\n",
    "\n",
    "#### 6.1 One-Way ANOVA\n",
    "\n",
    "One-Way ANOVA is used to determine if there are any statistically significant differences between the means of three or more independent (unrelated) groups. It is an extension of the t-test to more than two groups. \n",
    "\n",
    "##### Key Points:\n",
    "- **Purpose**: Compare means across multiple groups.\n",
    "- **Assumptions**: \n",
    "  - Normally distributed groups\n",
    "  - Homogeneity of variances\n",
    "  - Independent samples\n",
    "- **Test Statistic**: F-statistic\n",
    "- **Example**: Comparing test scores of students taught using different teaching methods.\n",
    "\n",
    "#### 6.2. Two-Way ANOVA\n",
    "\n",
    "Two-Way ANOVA assesses the impact of two different categorical independent variables on one continuous dependent variable. It also examines the interaction effect between the two independent variables.\n",
    "\n",
    "##### Key Points:\n",
    "- **Purpose**: Evaluate the effect of two factors and their interaction on a dependent variable.\n",
    "- **Assumptions**: \n",
    "  - Normality\n",
    "  - Homogeneity of variances\n",
    "  - Independence of observations\n",
    "- **Test Statistic**: F-statistic\n",
    "- **Example**: Analyzing how both teaching method and student gender affect test scores.\n",
    "\n",
    "#### 6.3 Post-Hoc Tests (Tukey's HSD)\n",
    "\n",
    "Post-Hoc Tests are used after an ANOVA to determine which specific group means are different. Tukey's Honestly Significant Difference (HSD) test is one of the most common methods.\n",
    "\n",
    "###### Key Points:\n",
    "- **Purpose**: Identify which pairs of group means are significantly different.\n",
    "- **Assumptions**: Results from a significant ANOVA test.\n",
    "- **Test Statistic**: Tukey's HSD statistic\n",
    "- **Example**: Following a significant One-Way ANOVA, use Tukey's HSD to find which teaching methods differ in terms of student performance.\n",
    "\n",
    "#### 6.4 Conducting ANOVA in Python"
   ]
  },
  {
   "cell_type": "code",
   "execution_count": 19,
   "id": "b3801241",
   "metadata": {},
   "outputs": [
    {
     "name": "stdout",
     "output_type": "stream",
     "text": [
      "F-statistic: 1.494915254237288, p-value: 0.27506326592039304\n"
     ]
    }
   ],
   "source": [
    "### Example Code:\n",
    "\n",
    "## One-Way ANOVA:**\n",
    "\n",
    "from scipy import stats\n",
    "\n",
    "# Sample data for different groups\n",
    "group1 = [23, 25, 28, 30]\n",
    "group2 = [22, 27, 26, 29]\n",
    "group3 = [20, 23, 24, 26]\n",
    "\n",
    "# Perform One-Way ANOVA\n",
    "f_stat, p_value = stats.f_oneway(group1, group2, group3)\n",
    "print(f\"F-statistic: {f_stat}, p-value: {p_value}\")\n"
   ]
  },
  {
   "cell_type": "code",
   "execution_count": 20,
   "id": "81906fc4",
   "metadata": {},
   "outputs": [
    {
     "name": "stdout",
     "output_type": "stream",
     "text": [
      "                        sum_sq   df         F    PR(>F)\n",
      "C(Method)            24.500000  2.0  1.547368  0.287133\n",
      "C(Gender)            24.083333  1.0  3.042105  0.131750\n",
      "C(Method):C(Gender)   2.166667  2.0  0.136842  0.874754\n",
      "Residual             47.500000  6.0       NaN       NaN\n"
     ]
    }
   ],
   "source": [
    "# two way anova\n",
    "\n",
    "import statsmodels.api as sm\n",
    "from statsmodels.formula.api import ols\n",
    "\n",
    "# Example DataFrame\n",
    "import pandas as pd\n",
    "data = pd.DataFrame({\n",
    "    'Score': [23, 25, 28, 30, 22, 27, 26, 29, 20, 23, 24, 26],\n",
    "    'Method': ['A']*4 + ['B']*4 + ['C']*4,\n",
    "    'Gender': ['M', 'F', 'M', 'F']*3\n",
    "})\n",
    "\n",
    "# Fit the model\n",
    "model = ols('Score ~ C(Method) * C(Gender)', data=data).fit()\n",
    "anova_table = sm.stats.anova_lm(model, typ=2)\n",
    "print(anova_table)\n"
   ]
  },
  {
   "cell_type": "markdown",
   "id": "a4705f74",
   "metadata": {},
   "source": [
    "Example: Performing Tukey's HSD Test in Python <br>\n",
    "Let's assume you have a dataset of multiple groups and you want to determine which pairs of groups have significantly different means. For this example, we'll use a fictional dataset with three groups."
   ]
  },
  {
   "cell_type": "code",
   "execution_count": 21,
   "id": "99d75784",
   "metadata": {},
   "outputs": [
    {
     "name": "stdout",
     "output_type": "stream",
     "text": [
      "ANOVA Results:\n",
      "             sum_sq    df         F    PR(>F)\n",
      "C(group)  10.737434   2.0  5.268739  0.007951\n",
      "Residual  58.081616  57.0       NaN       NaN\n",
      "\n",
      "Tukey HSD Test Results:\n",
      " Multiple Comparison of Means - Tukey HSD, FWER=0.05 \n",
      "=====================================================\n",
      " group1  group2 meandiff p-adj   lower  upper  reject\n",
      "-----------------------------------------------------\n",
      "Group 1 Group 2   0.4864 0.2875 -0.2817 1.2546  False\n",
      "Group 1 Group 3   1.0356 0.0055  0.2674 1.8037   True\n",
      "Group 2 Group 3   0.5492 0.2065  -0.219 1.3173  False\n",
      "-----------------------------------------------------\n"
     ]
    },
    {
     "data": {
      "image/png": "[encoded data removed]",
      "text/plain": [
       "<Figure size 1000x600 with 1 Axes>"
      ]
     },
     "metadata": {},
     "output_type": "display_data"
    }
   ],
   "source": [
    "import pandas as pd\n",
    "import numpy as np\n",
    "import statsmodels.api as sm\n",
    "from statsmodels.formula.api import ols\n",
    "from statsmodels.stats.multicomp import pairwise_tukeyhsd\n",
    "\n",
    "# Step 1: Create a sample dataset\n",
    "np.random.seed(0)\n",
    "data = pd.DataFrame({\n",
    "    'value': np.concatenate([\n",
    "        np.random.normal(loc=5, scale=1, size=20),  # Group 1\n",
    "        np.random.normal(loc=6, scale=1, size=20),  # Group 2\n",
    "        np.random.normal(loc=7, scale=1, size=20)   # Group 3\n",
    "    ]),\n",
    "    'group': ['Group 1'] * 20 + ['Group 2'] * 20 + ['Group 3'] * 20\n",
    "})\n",
    "\n",
    "# Step 2: Perform ANOVA\n",
    "model = ols('value ~ C(group)', data=data).fit()\n",
    "anova_table = sm.stats.anova_lm(model, typ=2)\n",
    "print('ANOVA Results:')\n",
    "print(anova_table)\n",
    "\n",
    "# Step 3: Perform Tukey's HSD test\n",
    "tukey = pairwise_tukeyhsd(endog=data['value'], groups=data['group'])\n",
    "print('\\nTukey HSD Test Results:')\n",
    "print(tukey)\n",
    "\n",
    "# Step 4: Plot the results\n",
    "import matplotlib.pyplot as plt\n",
    "\n",
    "tukey.plot_simultaneous()\n",
    "plt.suptitle('Tukey HSD Test Results')\n",
    "plt.show()\n"
   ]
  },
  {
   "cell_type": "markdown",
   "id": "d651273b",
   "metadata": {},
   "source": [
    "##### Explanation\n",
    "\n",
    "1. Create a Sample Dataset: <br>\n",
    "\n",
    "We create a DataFrame data with a column value representing the measurements and a column group indicating the group to which each measurement belongs.\n",
    "\n",
    "2. Perform ANOVA: <br>\n",
    "\n",
    "We use the ols function to fit an ordinary least squares model and anova_lm to perform the ANOVA.\n",
    "\n",
    "3. Perform Tukey's HSD Test:\n",
    "\n",
    "The pairwise_tukeyhsd function from statsmodels.stats.multicomp is used to perform Tukey's HSD test and obtain the pairwise comparisons.\n",
    "Plot the Results:\n",
    "\n",
    "Finally, the plot_simultaneous method visualizes the results of Tukey’s HSD test."
   ]
  },
  {
   "cell_type": "code",
   "execution_count": null,
   "id": "6bd56552",
   "metadata": {},
   "outputs": [],
   "source": []
  },
  {
   "cell_type": "code",
   "execution_count": null,
   "id": "714d3123",
   "metadata": {},
   "outputs": [],
   "source": []
  },
  {
   "cell_type": "markdown",
   "id": "892c4c40",
   "metadata": {},
   "source": [
    "### Chapter 7. Non-Parametric Tests\n",
    "\n",
    "Non-parametric tests are statistical tests that do not assume a specific distribution for the data. They are often used when the assumptions of parametric tests (like normality) are not met.\n",
    "\n",
    "#### 7.1 Mann-Whitney U Test\n",
    "\n",
    "The Mann-Whitney U Test is a non-parametric test used to determine whether there is a difference between two independent groups. It is the non-parametric alternative to the independent samples t-test.\n",
    "\n",
    "##### Key Points:\n",
    "- **Purpose**: Compare differences between two independent groups.\n",
    "- **Assumptions**:\n",
    "  - Data is ordinal or continuous.\n",
    "  - Groups are independent.\n",
    "- **Test Statistic**: U-statistic\n",
    "- **Example**: Comparing test scores between two different teaching methods when the data does not follow a normal distribution.\n",
    "\n",
    "#### 7.2 Wilcoxon Signed-Rank Test\n",
    "\n",
    "The Wilcoxon Signed-Rank Test is used to compare two related samples or matched pairs. It is a non-parametric alternative to the paired t-test.\n",
    "\n",
    "##### Key Points:\n",
    "- **Purpose**: Compare two related samples or matched pairs.\n",
    "- **Assumptions**:\n",
    "  - Data is paired and the differences are continuous.\n",
    "  - Data is ordinal or continuous but not necessarily normally distributed.\n",
    "- **Test Statistic**: W-statistic\n",
    "- **Example**: Testing the effectiveness of a treatment by comparing measurements before and after treatment on the same subjects.\n",
    "\n",
    "#### 7.3 Kruskal-Wallis H Test\n",
    "\n",
    "The Kruskal-Wallis H Test is used to determine if there are statistically significant differences between the medians of three or more independent groups. It is a non-parametric alternative to one-way ANOVA.\n",
    "\n",
    "##### Key Points:\n",
    "- **Purpose**: Compare differences between three or more independent groups.\n",
    "- **Assumptions**:\n",
    "  - Data is ordinal or continuous.\n",
    "  - Groups are independent.\n",
    "- **Test Statistic**: H-statistic\n",
    "- **Example**: Comparing customer satisfaction ratings across different store locations.\n",
    "\n",
    "#### 7.5 Friedman Test\n",
    "\n",
    "The Friedman Test is used to detect differences in treatments across multiple test attempts. It is a non-parametric alternative to repeated measures ANOVA.\n",
    "\n",
    "##### Key Points:\n",
    "- **Purpose**: Compare differences between multiple related groups or treatments.\n",
    "- **Assumptions**:\n",
    "  - Data is ordinal or continuous.\n",
    "  - The same subjects are measured across different conditions.\n",
    "- **Test Statistic**: Chi-square statistic\n",
    "- **Example**: Comparing the effectiveness of different diets on the same group of individuals over multiple time periods.\n",
    "\n"
   ]
  },
  {
   "cell_type": "markdown",
   "id": "4ca1fecf",
   "metadata": {},
   "source": [
    "##### Application in Python\n",
    "\n",
    "You can use the `scipy.stats.mannwhitneyu` function to perform this test."
   ]
  },
  {
   "cell_type": "code",
   "execution_count": 27,
   "id": "b26e77a9",
   "metadata": {},
   "outputs": [
    {
     "name": "stdout",
     "output_type": "stream",
     "text": [
      "Mann-Whitney U Statistic: 0.5, p-value: 0.015970696353780123\n"
     ]
    }
   ],
   "source": [
    "\n",
    "from scipy import stats\n",
    "\n",
    "# Sample data for two independent groups\n",
    "group1 = [23, 25, 28, 30, 22]\n",
    "group2 = [30, 32, 34, 36, 38]\n",
    "\n",
    "# Perform Mann-Whitney U Test\n",
    "u_stat, p_value = stats.mannwhitneyu(group1, group2)\n",
    "print(f\"Mann-Whitney U Statistic: {u_stat}, p-value: {p_value}\")\n"
   ]
  },
  {
   "cell_type": "markdown",
   "id": "81351d6d",
   "metadata": {},
   "source": [
    "Output Interpretation:\n",
    "\n",
    "U Statistic: The test statistic for the Mann-Whitney U Test. <br>\n",
    "p-value: The probability of observing the data under the null hypothesis that the distributions of the two groups are equal."
   ]
  },
  {
   "cell_type": "markdown",
   "id": "665bd472",
   "metadata": {},
   "source": [
    "#### 7.2 Wilcoxon Signed-Rank Test\n",
    "The Wilcoxon Signed-Rank Test compares two related samples or matched pairs. It is used when the differences between pairs are not normally distributed.\n",
    "\n",
    "Application in Python\n",
    "You can use the scipy.stats.wilcoxon function for this test.\n",
    "\n",
    "Example Code:"
   ]
  },
  {
   "cell_type": "code",
   "execution_count": 22,
   "id": "3ef0b573",
   "metadata": {},
   "outputs": [
    {
     "name": "stdout",
     "output_type": "stream",
     "text": [
      "Wilcoxon Signed-Rank Statistic: 0.0, p-value: 0.0625\n"
     ]
    }
   ],
   "source": [
    "from scipy import stats\n",
    "\n",
    "# Sample data for paired observations\n",
    "before = [23, 25, 28, 30, 22]\n",
    "after = [24, 27, 29, 31, 23]\n",
    "\n",
    "# Perform Wilcoxon Signed-Rank Test\n",
    "w_stat, p_value = stats.wilcoxon(before, after)\n",
    "print(f\"Wilcoxon Signed-Rank Statistic: {w_stat}, p-value: {p_value}\")\n"
   ]
  },
  {
   "cell_type": "markdown",
   "id": "5312939b",
   "metadata": {},
   "source": [
    "Output Interpretation:\n",
    "\n",
    "W Statistic: The test statistic for the Wilcoxon Signed-Rank Test.\n",
    "p-value: The probability of observing the data under the null hypothesis that the median difference between pairs is zero."
   ]
  },
  {
   "cell_type": "markdown",
   "id": "59e76479",
   "metadata": {},
   "source": [
    "#### 7.3 Kruskal-Wallis H Test\n",
    "The Kruskal-Wallis H Test is used to compare differences between three or more independent groups. It is a non-parametric alternative to one-way ANOVA.\n",
    "\n",
    "##### Application in Python \n",
    "You can use the scipy.stats.kruskal function for this test.\n",
    "\n",
    "Example Code:"
   ]
  },
  {
   "cell_type": "code",
   "execution_count": 23,
   "id": "d544c2b9",
   "metadata": {},
   "outputs": [
    {
     "name": "stdout",
     "output_type": "stream",
     "text": [
      "Kruskal-Wallis H Statistic: 2.391725352112676, p-value: 0.30244293133397976\n"
     ]
    }
   ],
   "source": [
    "from scipy import stats\n",
    "\n",
    "# Sample data for three independent groups\n",
    "group1 = [23, 25, 28, 30]\n",
    "group2 = [22, 27, 26, 29]\n",
    "group3 = [20, 23, 24, 26]\n",
    "\n",
    "# Perform Kruskal-Wallis H Test\n",
    "h_stat, p_value = stats.kruskal(group1, group2, group3)\n",
    "print(f\"Kruskal-Wallis H Statistic: {h_stat}, p-value: {p_value}\")\n"
   ]
  },
  {
   "cell_type": "markdown",
   "id": "3bf9de39",
   "metadata": {},
   "source": [
    "Output Interpretation:\n",
    "\n",
    "H Statistic: The test statistic for the Kruskal-Wallis H Test.\n",
    "p-value: The probability of observing the data under the null hypothesis that all group medians are equal."
   ]
  },
  {
   "cell_type": "markdown",
   "id": "6fadaca7",
   "metadata": {},
   "source": [
    " #### 7.4 Friedman Test\n",
    " \n",
    "The Friedman Test is used to detect differences in treatments across multiple test attempts. It is a non-parametric alternative to repeated measures ANOVA.\n",
    "\n",
    "Application in Python\n",
    "You can use the scipy.stats.friedmanchisquare function for this test.\n",
    "\n",
    "Example Code:"
   ]
  },
  {
   "cell_type": "code",
   "execution_count": 24,
   "id": "23d0b5da",
   "metadata": {},
   "outputs": [
    {
     "name": "stdout",
     "output_type": "stream",
     "text": [
      "Friedman Test Statistic: 6.5, p-value: 0.03877420783172202\n"
     ]
    }
   ],
   "source": [
    "from scipy import stats\n",
    "\n",
    "# Sample data for multiple related groups\n",
    "treatment1 = [23, 25, 28, 30]\n",
    "treatment2 = [22, 27, 26, 29]\n",
    "treatment3 = [20, 23, 24, 26]\n",
    "\n",
    "# Perform Friedman Test\n",
    "f_stat, p_value = stats.friedmanchisquare(treatment1, treatment2, treatment3)\n",
    "print(f\"Friedman Test Statistic: {f_stat}, p-value: {p_value}\")\n"
   ]
  },
  {
   "cell_type": "markdown",
   "id": "de2d6d66",
   "metadata": {},
   "source": [
    "Output Interpretation:\n",
    "\n",
    "F Statistic: The test statistic for the Friedman Test.\n",
    "p-value: The probability of observing the data under the null hypothesis that the distributions of all treatments are equal."
   ]
  },
  {
   "cell_type": "code",
   "execution_count": null,
   "id": "e594024f",
   "metadata": {},
   "outputs": [],
   "source": []
  },
  {
   "cell_type": "code",
   "execution_count": null,
   "id": "87d964c0",
   "metadata": {},
   "outputs": [],
   "source": []
  },
  {
   "cell_type": "markdown",
   "id": "9bef1cb1",
   "metadata": {},
   "source": [
    "#### 8. Python Implementation of Non-Parametric Tests\n",
    "\n",
    "This chapter covers the implementation of correlation and regression analysis using Python, focusing on non-parametric tests and methods for understanding relationships between variables.\n",
    "\n",
    "#### 8.1 Correlation and Regression Analysis\n",
    "\n",
    "Correlation and regression analysis are used to explore and quantify the relationships between variables. While correlation measures the strength and direction of a linear relationship, regression provides a model to predict one variable based on another.\n",
    "\n",
    "##### Key Concepts:\n",
    "- **Correlation**: Measures the strength and direction of a linear relationship between two variables.\n",
    "- **Regression**: Models the relationship between a dependent variable and one or more independent variables.\n",
    "\n",
    "#### 8.2 Pearson and Spearman Correlation Coefficients\n",
    "\n",
    "**Pearson Correlation Coefficient** measures the linear relationship between two continuous variables, assuming the data is normally distributed.\n",
    "\n",
    "**Spearman Rank Correlation Coefficient** measures the strength and direction of association between two ranked variables, and does not assume normality.\n",
    "\n",
    "##### Application in Python\n",
    "\n",
    "**Pearson Correlation Coefficient**\n",
    "\n",
    "```python\n",
    "from scipy import stats\n",
    "\n",
    "# Sample data\n",
    "x = [1, 2, 3, 4, 5]\n",
    "y = [2, 4, 6, 8, 10]\n",
    "\n",
    "# Calculate Pearson correlation coefficient\n",
    "pearson_corr, p_value = stats.pearsonr(x, y)\n",
    "print(f\"Pearson Correlation Coefficient: {pearson_corr}, p-value: {p_value}\")\n"
   ]
  },
  {
   "cell_type": "markdown",
   "id": "c9455d96",
   "metadata": {},
   "source": [
    "Spearman Rank Correlation Coefficient"
   ]
  },
  {
   "cell_type": "code",
   "execution_count": 10,
   "id": "13afa9b6",
   "metadata": {},
   "outputs": [
    {
     "name": "stdout",
     "output_type": "stream",
     "text": [
      "Spearman Rank Correlation Coefficient: 0.7999999999999999, p-value: 0.10408803866182788\n"
     ]
    }
   ],
   "source": [
    "from scipy import stats\n",
    "\n",
    "# Sample data\n",
    "x = [1, 2, 3, 4, 5]\n",
    "y = [2, 1, 4, 3, 5]\n",
    "\n",
    "# Calculate Spearman rank correlation coefficient\n",
    "spearman_corr, p_value = stats.spearmanr(x, y)\n",
    "print(f\"Spearman Rank Correlation Coefficient: {spearman_corr}, p-value: {p_value}\")\n"
   ]
  },
  {
   "cell_type": "markdown",
   "id": "d6ba1687",
   "metadata": {},
   "source": [
    "III. Simple Linear Regression\n",
    "Simple Linear Regression analyzes the relationship between a dependent variable and a single independent variable, providing a linear model to make predictions.\n",
    "\n",
    "Application in Python\n",
    "You can use the statsmodels library to perform simple linear regression.\n",
    "\n",
    "Example Code:"
   ]
  },
  {
   "cell_type": "code",
   "execution_count": null,
   "id": "8b8618a3",
   "metadata": {},
   "outputs": [],
   "source": []
  },
  {
   "cell_type": "code",
   "execution_count": 11,
   "id": "6feb0dc7",
   "metadata": {},
   "outputs": [
    {
     "name": "stdout",
     "output_type": "stream",
     "text": [
      "                            OLS Regression Results                            \n",
      "==============================================================================\n",
      "Dep. Variable:                      y   R-squared:                       1.000\n",
      "Model:                            OLS   Adj. R-squared:                  1.000\n",
      "Method:                 Least Squares   F-statistic:                 2.611e+30\n",
      "Date:                Thu, 29 Aug 2024   Prob (F-statistic):           5.23e-46\n",
      "Time:                        18:40:31   Log-Likelihood:                 160.05\n",
      "No. Observations:                   5   AIC:                            -316.1\n",
      "Df Residuals:                       3   BIC:                            -316.9\n",
      "Df Model:                           1                                         \n",
      "Covariance Type:            nonrobust                                         \n",
      "==============================================================================\n",
      "                 coef    std err          t      P>|t|      [0.025      0.975]\n",
      "------------------------------------------------------------------------------\n",
      "const      -1.332e-15    4.1e-15     -0.325      0.767   -1.44e-14    1.17e-14\n",
      "x1             2.0000   1.24e-15   1.62e+15      0.000       2.000       2.000\n",
      "==============================================================================\n",
      "Omnibus:                          nan   Durbin-Watson:                   0.043\n",
      "Prob(Omnibus):                    nan   Jarque-Bera (JB):                0.761\n",
      "Skew:                          -0.507   Prob(JB):                        0.684\n",
      "Kurtosis:                       1.380   Cond. No.                         8.37\n",
      "==============================================================================\n",
      "\n",
      "Notes:\n",
      "[1] Standard Errors assume that the covariance matrix of the errors is correctly specified.\n"
     ]
    },
    {
     "name": "stderr",
     "output_type": "stream",
     "text": [
      "C:\\Users\\asus\\anaconda3\\lib\\site-packages\\statsmodels\\stats\\stattools.py:74: ValueWarning: omni_normtest is not valid with less than 8 observations; 5 samples were given.\n",
      "  warn(\"omni_normtest is not valid with less than 8 observations; %i \"\n"
     ]
    }
   ],
   "source": [
    "import statsmodels.api as sm\n",
    "\n",
    "# Sample data\n",
    "X = [1, 2, 3, 4, 5]\n",
    "y = [2, 4, 6, 8, 10]\n",
    "\n",
    "# Add a constant to the independent variable matrix\n",
    "X = sm.add_constant(X)\n",
    "\n",
    "# Fit the model\n",
    "model = sm.OLS(y, X).fit()\n",
    "print(model.summary())\n"
   ]
  },
  {
   "cell_type": "code",
   "execution_count": null,
   "id": "1b824a50",
   "metadata": {},
   "outputs": [],
   "source": []
  },
  {
   "cell_type": "code",
   "execution_count": null,
   "id": "4c475fbe",
   "metadata": {},
   "outputs": [],
   "source": []
  },
  {
   "cell_type": "markdown",
   "id": "c5fd7952",
   "metadata": {},
   "source": [
    "#### 8.4 Multiple Linear Regression\n",
    "Multiple Linear Regression examines the relationship between a dependent variable and multiple independent variables, providing a more comprehensive model for prediction.\n",
    "\n",
    "Application in Python\n",
    "Example Code:"
   ]
  },
  {
   "cell_type": "code",
   "execution_count": 12,
   "id": "15eb5067",
   "metadata": {},
   "outputs": [
    {
     "name": "stdout",
     "output_type": "stream",
     "text": [
      "                            OLS Regression Results                            \n",
      "==============================================================================\n",
      "Dep. Variable:                      y   R-squared:                       1.000\n",
      "Model:                            OLS   Adj. R-squared:                  1.000\n",
      "Method:                 Least Squares   F-statistic:                 1.179e+30\n",
      "Date:                Thu, 29 Aug 2024   Prob (F-statistic):           1.72e-45\n",
      "Time:                        18:41:09   Log-Likelihood:                 158.07\n",
      "No. Observations:                   5   AIC:                            -312.1\n",
      "Df Residuals:                       3   BIC:                            -312.9\n",
      "Df Model:                           1                                         \n",
      "Covariance Type:            nonrobust                                         \n",
      "==============================================================================\n",
      "                 coef    std err          t      P>|t|      [0.025      0.975]\n",
      "------------------------------------------------------------------------------\n",
      "const         -0.6667   4.64e-15  -1.44e+14      0.000      -0.667      -0.667\n",
      "x1             1.3333   3.19e-15   4.18e+14      0.000       1.333       1.333\n",
      "x2             0.6667    1.5e-15   4.43e+14      0.000       0.667       0.667\n",
      "==============================================================================\n",
      "Omnibus:                          nan   Durbin-Watson:                   0.078\n",
      "Prob(Omnibus):                    nan   Jarque-Bera (JB):                0.454\n",
      "Skew:                           0.403   Prob(JB):                        0.797\n",
      "Kurtosis:                       1.764   Cond. No.                     3.31e+16\n",
      "==============================================================================\n",
      "\n",
      "Notes:\n",
      "[1] Standard Errors assume that the covariance matrix of the errors is correctly specified.\n",
      "[2] The smallest eigenvalue is 1.36e-31. This might indicate that there are\n",
      "strong multicollinearity problems or that the design matrix is singular.\n"
     ]
    },
    {
     "name": "stderr",
     "output_type": "stream",
     "text": [
      "C:\\Users\\asus\\anaconda3\\lib\\site-packages\\statsmodels\\stats\\stattools.py:74: ValueWarning: omni_normtest is not valid with less than 8 observations; 5 samples were given.\n",
      "  warn(\"omni_normtest is not valid with less than 8 observations; %i \"\n"
     ]
    }
   ],
   "source": [
    "import statsmodels.api as sm\n",
    "\n",
    "# Sample data\n",
    "X = [[1, 2], [2, 3], [3, 4], [4, 5], [5, 6]]\n",
    "y = [2, 4, 6, 8, 10]\n",
    "\n",
    "# Add a constant to the independent variable matrix\n",
    "X = sm.add_constant(X)\n",
    "\n",
    "# Fit the model\n",
    "model = sm.OLS(y, X).fit()\n",
    "print(model.summary())\n"
   ]
  },
  {
   "cell_type": "markdown",
   "id": "f26020ba",
   "metadata": {},
   "source": [
    "#### 8.5 Correlation and Regression in Python\n",
    "\n",
    "Python provides robust libraries such as scipy and statsmodels for performing correlation and regression analysis. These tools allow for both basic and advanced statistical modeling, making it easier to understand and interpret relationships in your data.\n",
    "\n",
    "Example Code for Both Correlation and Regression\n",
    "Correlation and Simple Linear Regression Together:"
   ]
  },
  {
   "cell_type": "code",
   "execution_count": 13,
   "id": "409e8185",
   "metadata": {},
   "outputs": [
    {
     "name": "stdout",
     "output_type": "stream",
     "text": [
      "Pearson Correlation Coefficient: 1.0, p-value: 0.0\n",
      "                            OLS Regression Results                            \n",
      "==============================================================================\n",
      "Dep. Variable:                      y   R-squared:                       1.000\n",
      "Model:                            OLS   Adj. R-squared:                  1.000\n",
      "Method:                 Least Squares   F-statistic:                 2.611e+30\n",
      "Date:                Thu, 29 Aug 2024   Prob (F-statistic):           5.23e-46\n",
      "Time:                        18:41:56   Log-Likelihood:                 160.05\n",
      "No. Observations:                   5   AIC:                            -316.1\n",
      "Df Residuals:                       3   BIC:                            -316.9\n",
      "Df Model:                           1                                         \n",
      "Covariance Type:            nonrobust                                         \n",
      "==============================================================================\n",
      "                 coef    std err          t      P>|t|      [0.025      0.975]\n",
      "------------------------------------------------------------------------------\n",
      "const      -1.332e-15    4.1e-15     -0.325      0.767   -1.44e-14    1.17e-14\n",
      "X              2.0000   1.24e-15   1.62e+15      0.000       2.000       2.000\n",
      "==============================================================================\n",
      "Omnibus:                          nan   Durbin-Watson:                   0.043\n",
      "Prob(Omnibus):                    nan   Jarque-Bera (JB):                0.761\n",
      "Skew:                          -0.507   Prob(JB):                        0.684\n",
      "Kurtosis:                       1.380   Cond. No.                         8.37\n",
      "==============================================================================\n",
      "\n",
      "Notes:\n",
      "[1] Standard Errors assume that the covariance matrix of the errors is correctly specified.\n"
     ]
    },
    {
     "name": "stderr",
     "output_type": "stream",
     "text": [
      "C:\\Users\\asus\\anaconda3\\lib\\site-packages\\statsmodels\\stats\\stattools.py:74: ValueWarning: omni_normtest is not valid with less than 8 observations; 5 samples were given.\n",
      "  warn(\"omni_normtest is not valid with less than 8 observations; %i \"\n"
     ]
    }
   ],
   "source": [
    "import numpy as np\n",
    "import pandas as pd\n",
    "import statsmodels.api as sm\n",
    "from scipy import stats\n",
    "\n",
    "# Sample data\n",
    "data = pd.DataFrame({\n",
    "    'X': [1, 2, 3, 4, 5],\n",
    "    'y': [2, 4, 6, 8, 10]\n",
    "})\n",
    "\n",
    "# Calculate Pearson correlation coefficient\n",
    "pearson_corr, p_value_corr = stats.pearsonr(data['X'], data['y'])\n",
    "print(f\"Pearson Correlation Coefficient: {pearson_corr}, p-value: {p_value_corr}\")\n",
    "\n",
    "# Add a constant to the independent variable matrix for regression\n",
    "X = sm.add_constant(data['X'])\n",
    "\n",
    "# Fit the simple linear regression model\n",
    "model = sm.OLS(data['y'], X).fit()\n",
    "print(model.summary())\n"
   ]
  },
  {
   "cell_type": "markdown",
   "id": "5a6ea092",
   "metadata": {},
   "source": [
    "Key Output:\n",
    "\n",
    "Pearson Correlation Coefficient: Shows the strength and direction of the linear relationship.\n",
    "Regression Summary: Provides details about the model fit, coefficients, and statistical significance."
   ]
  },
  {
   "cell_type": "code",
   "execution_count": null,
   "id": "213b5506",
   "metadata": {},
   "outputs": [],
   "source": []
  },
  {
   "cell_type": "code",
   "execution_count": null,
   "id": "7642c9ab",
   "metadata": {},
   "outputs": [],
   "source": []
  },
  {
   "cell_type": "markdown",
   "id": "9dbd14a2",
   "metadata": {},
   "source": [
    "#### Chapter 9: Advanced Statistical Tests\n",
    "\n",
    "#### 9.1 Z-Test\n",
    "\n",
    "The Z-Test is a statistical test used to determine if there is a significant difference between sample and population means or between the means of two samples. It is typically applied when the sample size is large (usually \\( n > 30 \\)) and the population variance is known. There are two main types of Z-tests:\n",
    "\n",
    "##### One-Sample Z-Test\n",
    "\n",
    "Used to compare the mean of a single sample to a known population mean.\n",
    "\n",
    "**Formula**:\n",
    "$$ Z = \\frac{\\bar{X} - \\mu}{\\sigma / \\sqrt{n}} $$\n",
    "where:\n",
    "- \\(bar{X})= sample mean\n",
    "- \\( \\mu \\) = population mean\n",
    "- \\( \\sigma \\) = population standard deviation\n",
    "- \\( n \\) = sample size\n",
    "\n",
    "##### Two-Sample Z-Test\n",
    "\n",
    "Compares the means of two independent samples to determine if they come from the same population.\n",
    "\n",
    "**Formula**:\n",
    "$$ Z = \\frac{\\bar{X}_1 - \\bar{X}_2}{\\sqrt{\\sigma^2 \\left(\\frac{1}{n_1} + \\frac{1}{n_2}\\right)}} $$\n",
    "where:\n",
    "- \\( \\bar{X}_1 \\) and \\( \\bar{X}_2 \\) = means of the two samples\n",
    "- \\( \\sigma^2 \\) = common population variance\n",
    "- \\( n_1 \\) and \\( n_2 \\) = sample sizes\n",
    "\n",
    "#### 9.2 Fisher’s Exact Test\n",
    "\n",
    "Fisher’s Exact Test is used to determine if there are nonrandom associations between two categorical variables in a 2x2 contingency table, especially when sample sizes are small. It is an exact test, meaning it calculates the exact probability of observing the data given the null hypothesis of no association.\n",
    "\n",
    "**Formula**:\n",
    "The probability of obtaining a table with the same or more extreme values under the null hypothesis is calculated using the hypergeometric distribution:\n",
    "\n",
    "$$ P = \\frac{\\binom{a+b}{a} \\binom{c+d}{c}}{\\binom{n}{a+c}} $$\n",
    "\n",
    "where:\n",
    "- \\( a \\), \\( b \\), \\( c \\), and \\( d \\) are the counts in the 2x2 table\n",
    "- \\( n \\) is the total sample size\n",
    "\n",
    "#### 9.3 McNemar’s Test\n",
    "\n",
    "McNemar’s Test is used for paired nominal data to determine if there are differences in the proportion of two categorical outcomes. It is particularly useful for pre-post measurements or matched pairs.\n",
    "\n",
    "**Formula**:\n",
    "$$ \\chi^2 = \\frac{(b - c)^2}{b + c} $$\n",
    "where:\n",
    "- \\( b \\) = number of subjects with a change from category 1 to category 2\n",
    "- \\( c \\) = number of subjects with a change from category 2 to category 1\n",
    "\n",
    "#### 9.4 Advanced Tests in Python\n",
    "\n",
    "Python provides several libraries and functions to perform advanced statistical tests. Below are examples for Z-Test, Fisher’s Exact Test, and McNemar’s Test using `scipy` and `statsmodels`."
   ]
  },
  {
   "cell_type": "code",
   "execution_count": 26,
   "id": "0273a698",
   "metadata": {},
   "outputs": [
    {
     "name": "stdout",
     "output_type": "stream",
     "text": [
      "Z-Score: -1.0954451150103321, p-value: 0.27332167829229814\n"
     ]
    }
   ],
   "source": [
    "# z test\n",
    "\n",
    "import numpy as np\n",
    "from scipy import stats\n",
    "\n",
    "# One-Sample Z-Test\n",
    "sample_mean = 50\n",
    "population_mean = 52\n",
    "population_std = 10\n",
    "sample_size = 30\n",
    "\n",
    "z_score = (sample_mean - population_mean) / (population_std / np.sqrt(sample_size))\n",
    "p_value = stats.norm.sf(abs(z_score)) * 2\n",
    "print(f\"Z-Score: {z_score}, p-value: {p_value}\")"
   ]
  },
  {
   "cell_type": "markdown",
   "id": "33ba3335",
   "metadata": {},
   "source": [
    "##### Interpretation\n",
    "\n",
    "##### Summary:\n",
    "\n",
    "1. Z-Score: -1.095: The sample mean is 1.095 standard deviations below the population mean.\n",
    "2. p-Value: 0.273: This value is higher than typical significance levels (0.05 or 0.01).\n",
    "\n",
    "<b>Conclusion:</b> The difference between the sample mean and the population mean is not statistically significant. The high p-value suggests that any observed difference is likely due to random variation rather than a true effect.\n",
    "\n"
   ]
  },
  {
   "cell_type": "markdown",
   "id": "0bcc9780",
   "metadata": {},
   "source": [
    "##### Python Code for Fisher’s Exact Test"
   ]
  },
  {
   "cell_type": "code",
   "execution_count": 29,
   "id": "69d07af4",
   "metadata": {},
   "outputs": [
    {
     "name": "stdout",
     "output_type": "stream",
     "text": [
      "Contingency Table:\n",
      "[[10 20]\n",
      " [ 5 15]]\n",
      "Odds Ratio: 1.5\n",
      "p-value: 0.7536263339838003\n"
     ]
    }
   ],
   "source": [
    "import numpy as np\n",
    "from scipy.stats import fisher_exact\n",
    "\n",
    "# Define the 2x2 contingency table\n",
    "# Format: [[a, b], [c, d]]\n",
    "# Where a, b, c, and d are counts in the contingency table\n",
    "contingency_table = np.array([[10, 20], [5, 15]])\n",
    "\n",
    "# Perform Fisher's Exact Test\n",
    "odds_ratio, p_value = fisher_exact(contingency_table)\n",
    "\n",
    "# Print the results\n",
    "print(f\"Contingency Table:\\n{contingency_table}\")\n",
    "print(f\"Odds Ratio: {odds_ratio}\")\n",
    "print(f\"p-value: {p_value}\")"
   ]
  },
  {
   "cell_type": "markdown",
   "id": "016ca6c1",
   "metadata": {},
   "source": [
    "Conclusion: The Fisher’s Exact Test results indicate that there is no significant association between the categories in the two groups. The high p-value suggests that the observed differences could be due to chance rather than a true effect."
   ]
  },
  {
   "cell_type": "markdown",
   "id": "e930f840",
   "metadata": {},
   "source": [
    "##### Python Code for McNemar’s Test"
   ]
  },
  {
   "cell_type": "code",
   "execution_count": 30,
   "id": "39a6c655",
   "metadata": {},
   "outputs": [
    {
     "name": "stdout",
     "output_type": "stream",
     "text": [
      "Contingency Table:\n",
      "[[30 10]\n",
      " [ 5 25]]\n",
      "Chi-Square Statistic: 5.0\n",
      "p-value: 0.30175781249999994\n"
     ]
    }
   ],
   "source": [
    "import numpy as np\n",
    "from statsmodels.stats.contingency_tables import mcnemar\n",
    "\n",
    "# Define the 2x2 contingency table\n",
    "# Format: [[a, b], [c, d]]\n",
    "# Where a, b, c, and d are counts in the contingency table\n",
    "contingency_table = np.array([[30, 10], [5, 25]])\n",
    "\n",
    "# Perform McNemar's Test\n",
    "result = mcnemar(contingency_table, exact=True)  # Use `exact=True` for small sample sizes\n",
    "\n",
    "# Print the results\n",
    "print(f\"Contingency Table:\\n{contingency_table}\")\n",
    "print(f\"Chi-Square Statistic: {result.statistic}\")\n",
    "print(f\"p-value: {result.pvalue}\")\n"
   ]
  },
  {
   "cell_type": "markdown",
   "id": "d97f5994",
   "metadata": {},
   "source": [
    "The McNemar’s Test results indicate that the observed difference in proportions between the two categories is not statistically significant. The high p-value suggests that there is not enough evidence to reject the null hypothesis, which means any observed differences in the paired data are likely due to chance rather than a systematic effect.\n",
    "\n",
    "In practical terms, this means that, based on this test, there is no significant change or difference in the proportions of outcomes between the two measurements or conditions being compared."
   ]
  },
  {
   "cell_type": "code",
   "execution_count": null,
   "id": "a9798f3a",
   "metadata": {},
   "outputs": [],
   "source": []
  },
  {
   "cell_type": "code",
   "execution_count": null,
   "id": "9bdbe85b",
   "metadata": {},
   "outputs": [],
   "source": []
  },
  {
   "cell_type": "markdown",
   "id": "72e72d5b",
   "metadata": {},
   "source": [
    "### Chapter 10. Practical Applications\n",
    "\n",
    "Understanding and applying statistical methods correctly is crucial for deriving meaningful insights from data. This chapter covers practical aspects of statistical testing, including choosing the right test, real-world applications, interpreting results, and common pitfalls.\n",
    "\n",
    "#### 10.1 Choosing the Right Statistical Test\n",
    "\n",
    "Selecting the appropriate statistical test depends on the nature of your data and the research question. Consider the following factors:\n",
    "- **Type of Data**: Nominal, ordinal, interval, or ratio.\n",
    "- **Number of Groups**: Whether comparing two groups or multiple groups.\n",
    "- **Assumptions**: Normality, homogeneity of variances, and data scale.\n",
    "\n",
    "##### Examples:\n",
    "- **Two Independent Groups**: Use a t-test or Mann-Whitney U Test.\n",
    "- **Multiple Groups**: Use ANOVA or Kruskal-Wallis H Test.\n",
    "- **Paired Samples**: Use a paired t-test or Wilcoxon Signed-Rank Test.\n",
    "\n",
    "#### 10.2 Real-World Case Studies\n",
    "\n",
    "Applying statistical tests to real-world scenarios can illustrate their practical use. Here are a few examples:\n",
    "\n",
    "##### Case Study 1: Marketing Campaign\n",
    "A company wants to compare the effectiveness of two marketing strategies. Using a t-test or Mann-Whitney U Test can determine if there’s a significant difference in customer engagement between the two strategies.\n",
    "\n",
    "##### Case Study 2: Medical Treatment\n",
    "In a clinical trial, researchers compare the effectiveness of a new drug versus a placebo. ANOVA or Kruskal-Wallis H Test can be used to analyze the results across multiple groups.\n",
    "\n",
    "#### 10.3 Interpreting and Reporting Results\n",
    "\n",
    "Accurate interpretation and clear reporting of statistical results are essential. Focus on:\n",
    "- **Statistical Significance**: p-value and confidence intervals.\n",
    "- **Effect Size**: The magnitude of the effect, not just significance.\n",
    "- **Context**: Relate findings to practical implications and limitations.\n",
    "\n",
    "##### Reporting Example:\n",
    "“Based on the One-Way ANOVA, there was a significant difference in test scores across different teaching methods (F(2, 57) = 4.25, p = 0.019). Post-hoc tests revealed that Method A significantly outperformed Method B.”\n",
    "\n",
    "#### 10.4 Tips and Best Practices\n",
    "\n",
    "To ensure reliable and meaningful statistical analysis, follow these tips:\n",
    "- **Understand Your Data**: Explore and visualize data before applying tests.\n",
    "- **Check Assumptions**: Validate assumptions for parametric tests.\n",
    "- **Use Proper Software**: Leverage statistical software and libraries (e.g., Python’s `scipy`, `statsmodels`).\n",
    "\n",
    "#### 10.5 Common Pitfalls in Statistical Testing\n",
    "\n",
    "Avoid these common pitfalls to ensure the accuracy of your analysis:\n",
    "- **Ignoring Assumptions**: Failing to check assumptions can lead to incorrect results.\n",
    "- **Overlooking Effect Size**: Relying solely on p-values may mislead interpretations.\n",
    "- **Multiple Comparisons**: Adjust for multiple comparisons to avoid Type I errors.\n",
    "\n",
    "#### 10.6 Best Practices for Reliable Results\n",
    "\n",
    "Follow these best practices to enhance the reliability of your statistical analyses:\n",
    "- **Replicate Studies**: Perform replication studies to verify results.\n",
    "- **Ensure Data Quality**: Use clean and accurate data.\n",
    "- **Document Methods**: Clearly document your methodology and rationale.\n",
    "\n",
    "#### 10.7 Enhancing Your Statistical Skills\n",
    "\n",
    "To further develop your statistical skills:\n",
    "- **Take Advanced Courses**: Enroll in specialized statistical courses or workshops.\n",
    "- **Read Relevant Literature**: Stay updated with recent research and methodologies.\n",
    "- **Practice Regularly**: Apply statistical methods to various datasets to gain experience.\n",
    "\n"
   ]
  },
  {
   "cell_type": "code",
   "execution_count": null,
   "id": "93102dbe",
   "metadata": {},
   "outputs": [],
   "source": []
  },
  {
   "cell_type": "code",
   "execution_count": null,
   "id": "c8436374",
   "metadata": {},
   "outputs": [],
   "source": []
  },
  {
   "cell_type": "markdown",
   "id": "ad2d11a8",
   "metadata": {},
   "source": [
    "### Chapter 11. Conclusion\n",
    "\n",
    "In this final chapter, we summarize the key concepts covered, suggest additional resources for further learning, and outline the next steps in the fields of data science and statistical testing.\n",
    "\n",
    "#### 11.1 Recap of Key Concepts\n",
    "\n",
    "Throughout this e-book, we have explored various statistical methods and their applications, including:\n",
    "\n",
    "- **Statistical Tests**: Understanding and applying parametric and non-parametric tests to different types of data.\n",
    "  - **Chi-Square Tests**: Used for categorical data analysis.\n",
    "  - **ANOVA**: For comparing means across multiple groups.\n",
    "  - **Non-Parametric Tests**: Such as Mann-Whitney U, Wilcoxon Signed-Rank, Kruskal-Wallis H, and Friedman tests, useful when data does not meet parametric test assumptions.\n",
    "\n",
    "- **Correlation and Regression**: Techniques for examining relationships between variables.\n",
    "  - **Pearson and Spearman Correlation**: For measuring linear and rank-based associations.\n",
    "  - **Simple and Multiple Linear Regression**: For modeling relationships and making predictions.\n",
    "\n",
    "- **Practical Applications**: Choosing the right statistical tests, interpreting results, and avoiding common pitfalls in statistical analysis.\n",
    "\n",
    "#### 11.2 Further Reading and Resources\n",
    "\n",
    "To deepen your understanding of statistical methods and data science, consider exploring the following resources:\n",
    "\n",
    "- **Books**:\n",
    "  - *“Statistics for Data Science”* by James D. Miller\n",
    "  - *“Practical Statistics for Data Scientists”* by Peter Bruce and Andrew Bruce\n",
    "\n",
    "- **Online Courses**:\n",
    "  - **Coursera**: Courses on Data Science and Statistics from institutions like Johns Hopkins and Stanford.\n",
    "  - **edX**: Courses on statistical analysis and data science from MIT, Harvard, and other universities.\n",
    "\n",
    "- **Websites**:\n",
    "  - **Khan Academy**: Offers tutorials on statistics and probability.\n",
    "  - **Towards Data Science**: A platform for articles and tutorials on data science and statistical methods.\n",
    "\n",
    "- **Software Documentation**:\n",
    "  - **SciPy Documentation**: For detailed information on statistical functions in Python.\n",
    "  - **Statsmodels Documentation**: For advanced statistical modeling techniques.\n",
    "\n",
    "#### 11.3 Next Steps in Data Science and Statistical Testing\n",
    "\n",
    "As you advance in your data science journey, consider the following steps:\n",
    "\n",
    "- **Advanced Topics**: Explore machine learning techniques, Bayesian statistics, and time series analysis.\n",
    "- **Real-World Projects**: Apply your knowledge to real datasets and projects to gain hands-on experience.\n",
    "- **Community Engagement**: Join data science communities, attend workshops, and participate in online forums to stay updated and collaborate with peers.\n",
    "\n",
    "By continuing to learn and practice, you will enhance your ability to analyze data effectively and draw meaningful conclusions.\n",
    "\n"
   ]
  },
  {
   "cell_type": "code",
   "execution_count": null,
   "id": "b7565481",
   "metadata": {},
   "outputs": [],
   "source": []
  },
  {
   "cell_type": "code",
   "execution_count": null,
   "id": "a2e10e2d",
   "metadata": {},
   "outputs": [],
   "source": []
  },
  {
   "cell_type": "code",
   "execution_count": null,
   "id": "3047b5ad",
   "metadata": {},
   "outputs": [],
   "source": []
  }
 ],
 "metadata": {
  "kernelspec": {
   "display_name": "Python 3 (ipykernel)",
   "language": "python",
   "name": "python3"
  },
  "language_info": {
   "codemirror_mode": {
    "name": "ipython",
    "version": 3
   },
   "file_extension": ".py",
   "mimetype": "text/x-python",
   "name": "python",
   "nbconvert_exporter": "python",
   "pygments_lexer": "ipython3",
   "version": "3.10.9"
  }
 },
 "nbformat": 4,
 "nbformat_minor": 5
}
